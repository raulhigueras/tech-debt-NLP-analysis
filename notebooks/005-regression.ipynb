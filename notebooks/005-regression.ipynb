{
 "cells": [
  {
   "cell_type": "code",
   "execution_count": 1,
   "metadata": {},
   "outputs": [],
   "source": [
    "import pandas as pd\n",
    "import numpy as np\n",
    "import matplotlib.pyplot as plt\n",
    "\n",
    "from gensim.models import TfidfModel\n",
    "from gensim.corpora import Dictionary\n",
    "\n",
    "from sklearn.feature_extraction.text import TfidfVectorizer\n",
    "from sklearn.decomposition import TruncatedSVD\n",
    "\n",
    "from sklearn.linear_model import LinearRegression, Ridge, PoissonRegressor, TweedieRegressor\n",
    "from sklearn.svm import SVC\n",
    "from sklearn.naive_bayes import GaussianNB\n",
    "from sklearn.ensemble import RandomForestRegressor\n",
    "from sklearn.neural_network import MLPRegressor\n",
    "\n",
    "from sklearn.metrics import mean_absolute_error, accuracy_score, r2_score\n",
    "\n",
    "from sklearn.model_selection import train_test_split"
   ]
  },
  {
   "cell_type": "code",
   "execution_count": 2,
   "metadata": {},
   "outputs": [
    {
     "data": {
      "text/html": [
       "<div>\n",
       "<style scoped>\n",
       "    .dataframe tbody tr th:only-of-type {\n",
       "        vertical-align: middle;\n",
       "    }\n",
       "\n",
       "    .dataframe tbody tr th {\n",
       "        vertical-align: top;\n",
       "    }\n",
       "\n",
       "    .dataframe thead th {\n",
       "        text-align: right;\n",
       "    }\n",
       "</style>\n",
       "<table border=\"1\" class=\"dataframe\">\n",
       "  <thead>\n",
       "    <tr style=\"text-align: right;\">\n",
       "      <th></th>\n",
       "      <th>key</th>\n",
       "      <th>project_id</th>\n",
       "      <th>creation_date</th>\n",
       "      <th>resolution_date</th>\n",
       "      <th>type</th>\n",
       "      <th>num_commits</th>\n",
       "      <th>lines_added</th>\n",
       "      <th>lines_removed</th>\n",
       "      <th>files_changed</th>\n",
       "      <th>duration</th>\n",
       "      <th>text</th>\n",
       "      <th>inter_text</th>\n",
       "    </tr>\n",
       "  </thead>\n",
       "  <tbody>\n",
       "    <tr>\n",
       "      <th>8</th>\n",
       "      <td>EXEC-100</td>\n",
       "      <td>commons-exec</td>\n",
       "      <td>2016-01-11T16:45:23.000+0000</td>\n",
       "      <td>2016-01-11T18:01:01.000+0000</td>\n",
       "      <td>Task</td>\n",
       "      <td>2</td>\n",
       "      <td>189</td>\n",
       "      <td>133</td>\n",
       "      <td>3</td>\n",
       "      <td>1.260556</td>\n",
       "      <td>sync newest ant source file class copy pasta o...</td>\n",
       "      <td>sync with the newest ant source file the class...</td>\n",
       "    </tr>\n",
       "    <tr>\n",
       "      <th>10</th>\n",
       "      <td>EXEC-98</td>\n",
       "      <td>commons-exec</td>\n",
       "      <td>2016-01-08T21:40:01.000+0000</td>\n",
       "      <td>2016-01-09T00:59:19.000+0000</td>\n",
       "      <td>Bug</td>\n",
       "      <td>3</td>\n",
       "      <td>345</td>\n",
       "      <td>195</td>\n",
       "      <td>11</td>\n",
       "      <td>3.321667</td>\n",
       "      <td>maven site creation fails findbugs error getti...</td>\n",
       "      <td>maven site creation fails with findbugs errors...</td>\n",
       "    </tr>\n",
       "    <tr>\n",
       "      <th>27</th>\n",
       "      <td>EXEC-81</td>\n",
       "      <td>commons-exec</td>\n",
       "      <td>2014-02-04T04:35:59.000+0000</td>\n",
       "      <td>2014-04-21T23:39:27.000+0000</td>\n",
       "      <td>Improvement</td>\n",
       "      <td>2</td>\n",
       "      <td>35</td>\n",
       "      <td>26</td>\n",
       "      <td>8</td>\n",
       "      <td>1843.057778</td>\n",
       "      <td>remove remaining raw type unchecked conversion...</td>\n",
       "      <td>remove remaining raw types unchecked conversio...</td>\n",
       "    </tr>\n",
       "    <tr>\n",
       "      <th>28</th>\n",
       "      <td>EXEC-80</td>\n",
       "      <td>commons-exec</td>\n",
       "      <td>2014-02-01T18:38:32.000+0000</td>\n",
       "      <td>2014-02-04T05:20:30.000+0000</td>\n",
       "      <td>Bug</td>\n",
       "      <td>1</td>\n",
       "      <td>32</td>\n",
       "      <td>1</td>\n",
       "      <td>3</td>\n",
       "      <td>58.699444</td>\n",
       "      <td>npe map drilled problem class method checked u...</td>\n",
       "      <td>npe in map  i have drilled down a problem in t...</td>\n",
       "    </tr>\n",
       "    <tr>\n",
       "      <th>33</th>\n",
       "      <td>EXEC-75</td>\n",
       "      <td>commons-exec</td>\n",
       "      <td>2013-12-08T11:42:40.000+0000</td>\n",
       "      <td>2014-06-06T09:12:31.000+0000</td>\n",
       "      <td>Test</td>\n",
       "      <td>1</td>\n",
       "      <td>7</td>\n",
       "      <td>0</td>\n",
       "      <td>1</td>\n",
       "      <td>4317.497500</td>\n",
       "      <td>test matrix update java mac o x hello might in...</td>\n",
       "      <td>test matrix update for java 7 on mac os x  hel...</td>\n",
       "    </tr>\n",
       "  </tbody>\n",
       "</table>\n",
       "</div>"
      ],
      "text/plain": [
       "         key    project_id                 creation_date  \\\n",
       "8   EXEC-100  commons-exec  2016-01-11T16:45:23.000+0000   \n",
       "10   EXEC-98  commons-exec  2016-01-08T21:40:01.000+0000   \n",
       "27   EXEC-81  commons-exec  2014-02-04T04:35:59.000+0000   \n",
       "28   EXEC-80  commons-exec  2014-02-01T18:38:32.000+0000   \n",
       "33   EXEC-75  commons-exec  2013-12-08T11:42:40.000+0000   \n",
       "\n",
       "                 resolution_date         type  num_commits  lines_added  \\\n",
       "8   2016-01-11T18:01:01.000+0000         Task            2          189   \n",
       "10  2016-01-09T00:59:19.000+0000          Bug            3          345   \n",
       "27  2014-04-21T23:39:27.000+0000  Improvement            2           35   \n",
       "28  2014-02-04T05:20:30.000+0000          Bug            1           32   \n",
       "33  2014-06-06T09:12:31.000+0000         Test            1            7   \n",
       "\n",
       "    lines_removed  files_changed     duration  \\\n",
       "8             133              3     1.260556   \n",
       "10            195             11     3.321667   \n",
       "27             26              8  1843.057778   \n",
       "28              1              3    58.699444   \n",
       "33              0              1  4317.497500   \n",
       "\n",
       "                                                 text  \\\n",
       "8   sync newest ant source file class copy pasta o...   \n",
       "10  maven site creation fails findbugs error getti...   \n",
       "27  remove remaining raw type unchecked conversion...   \n",
       "28  npe map drilled problem class method checked u...   \n",
       "33  test matrix update java mac o x hello might in...   \n",
       "\n",
       "                                           inter_text  \n",
       "8   sync with the newest ant source file the class...  \n",
       "10  maven site creation fails with findbugs errors...  \n",
       "27  remove remaining raw types unchecked conversio...  \n",
       "28  npe in map  i have drilled down a problem in t...  \n",
       "33  test matrix update for java 7 on mac os x  hel...  "
      ]
     },
     "execution_count": 2,
     "metadata": {},
     "output_type": "execute_result"
    }
   ],
   "source": [
    "df_raw = pd.read_csv('../data/interim/preproc.csv', index_col=0)\n",
    "\n",
    "df = df_raw[(df_raw[\"lines_added\"]>0) & (df_raw['num_commits']<3e5) & (df_raw['lines_removed']<3e6) & (df_raw['lines_added']<3e6)].dropna()\n",
    "\n",
    "target = 'lines_added'\n",
    "#df[target] = df['num_commits']+df['lines_removed']\n",
    "\n",
    "df.head()"
   ]
  },
  {
   "cell_type": "markdown",
   "metadata": {},
   "source": [
    "# Loading Data"
   ]
  },
  {
   "cell_type": "code",
   "execution_count": 3,
   "metadata": {},
   "outputs": [
    {
     "data": {
      "image/png": "[encoded data removed]",
      "text/plain": [
       "<Figure size 432x288 with 1 Axes>"
      ]
     },
     "metadata": {
      "needs_background": "light"
     },
     "output_type": "display_data"
    }
   ],
   "source": [
    "plt.hist(df[target], log=True, bins=100)\n",
    "plt.show()"
   ]
  },
  {
   "cell_type": "code",
   "execution_count": 4,
   "metadata": {},
   "outputs": [],
   "source": [
    "X_train, X_test, y_train, y_test = train_test_split(df, df[target], test_size=0.2, random_state=123)"
   ]
  },
  {
   "cell_type": "markdown",
   "metadata": {},
   "source": [
    "# TF-IDF model"
   ]
  },
  {
   "cell_type": "code",
   "execution_count": 13,
   "metadata": {},
   "outputs": [],
   "source": [
    "vectorizer = TfidfVectorizer()\n",
    "X_train_tfidf = vectorizer.fit_transform(X_train[\"text\"])\n",
    "svd = TruncatedSVD(n_components=200, random_state=123)\n",
    "X_train_svd = svd.fit_transform(X_train_tfidf)\n",
    "\n",
    "X_test_tfidf = vectorizer.transform(X_test[\"text\"])\n",
    "X_test_svd = svd.transform(X_test_tfidf)"
   ]
  },
  {
   "cell_type": "markdown",
   "metadata": {},
   "source": [
    "# Modeling"
   ]
  },
  {
   "cell_type": "code",
   "execution_count": 133,
   "metadata": {},
   "outputs": [],
   "source": [
    "def compute_scores(model, train, test, y_train, y_test, namemodel):\n",
    "    \"\"\"\n",
    "    Computes and prints several metrics given a model. \n",
    "    \"\"\"\n",
    "    y_pred = model.predict(train)\n",
    "    train_abs_error = mean_absolute_error(y_train, y_pred)\n",
    "    train_r2_score = r2_score(y_train, y_pred)\n",
    "\n",
    "    y_pred = model.predict(test)\n",
    "    test_abs_error = mean_absolute_error(y_test, y_pred)\n",
    "    test_r2_score = r2_score(y_test, y_pred)\n",
    "\n",
    "    print('Absolute error for '+namemodel+':')\n",
    "    print('- Train:', round(train_abs_error,2))\n",
    "    print('- Test:', round(test_abs_error,2))\n",
    "\n",
    "    print('R2 score for '+namemodel+':')\n",
    "    print('- Train:', round(train_r2_score,6))\n",
    "    print('- Test:', round(test_r2_score,6))"
   ]
  },
  {
   "cell_type": "markdown",
   "metadata": {},
   "source": [
    "## Linear Regression"
   ]
  },
  {
   "cell_type": "code",
   "execution_count": 14,
   "metadata": {},
   "outputs": [],
   "source": [
    "lm = LinearRegression().fit(X_train_svd, y_train)"
   ]
  },
  {
   "cell_type": "code",
   "execution_count": 134,
   "metadata": {},
   "outputs": [
    {
     "name": "stdout",
     "output_type": "stream",
     "text": [
      "Absolute error for LM:\n",
      "- Train: 1030.35\n",
      "- Test: 991.6\n",
      "R2 score for LM:\n",
      "- Train: 0.012583\n",
      "- Test: 0.003415\n"
     ]
    }
   ],
   "source": [
    "compute_scores(lm, X_train_svd, X_test_svd, y_train, y_test, 'LM')"
   ]
  },
  {
   "cell_type": "markdown",
   "metadata": {},
   "source": [
    "## Ridge Regression"
   ]
  },
  {
   "cell_type": "code",
   "execution_count": 16,
   "metadata": {},
   "outputs": [],
   "source": [
    "ridge = Ridge().fit(X_train_svd, y_train)"
   ]
  },
  {
   "cell_type": "code",
   "execution_count": 135,
   "metadata": {
    "scrolled": true
   },
   "outputs": [
    {
     "name": "stdout",
     "output_type": "stream",
     "text": [
      "Absolute error for RIDGE:\n",
      "- Train: 1024.51\n",
      "- Test: 985.54\n",
      "R2 score for RIDGE:\n",
      "- Train: 0.012579\n",
      "- Test: 0.004017\n"
     ]
    }
   ],
   "source": [
    "compute_scores(ridge, X_train_svd, X_test_svd, y_train, y_test, 'RIDGE')"
   ]
  },
  {
   "cell_type": "markdown",
   "metadata": {},
   "source": [
    "## Gaussian Naive Bayes"
   ]
  },
  {
   "cell_type": "code",
   "execution_count": 140,
   "metadata": {},
   "outputs": [],
   "source": [
    "gnb = GaussianNB().fit(X_train_svd, y_train)"
   ]
  },
  {
   "cell_type": "code",
   "execution_count": 141,
   "metadata": {},
   "outputs": [
    {
     "name": "stdout",
     "output_type": "stream",
     "text": [
      "Absolute error for GNB:\n",
      "- Train: 302.71\n",
      "- Test: 744.84\n",
      "R2 score for GNB:\n",
      "- Train: 0.991406\n",
      "- Test: 0.01287\n"
     ]
    }
   ],
   "source": [
    "#compute_scores(gnb, X_train_svd, X_test_svd, y_train, y_test, 'GNB')"
   ]
  },
  {
   "cell_type": "markdown",
   "metadata": {},
   "source": [
    "## Random Forest Regressor"
   ]
  },
  {
   "cell_type": "code",
   "execution_count": 100,
   "metadata": {
    "scrolled": false
   },
   "outputs": [],
   "source": [
    "np.random.seed(1234)\n",
    "rf = RandomForestRegressor(max_depth=3, n_estimators=160, n_jobs=-1).fit(X_train_svd, y_train)"
   ]
  },
  {
   "cell_type": "code",
   "execution_count": 137,
   "metadata": {
    "scrolled": true
   },
   "outputs": [
    {
     "name": "stdout",
     "output_type": "stream",
     "text": [
      "Absolute error for RF:\n",
      "- Train: 905.1\n",
      "- Test: 890.92\n",
      "R2 score for RF:\n",
      "- Train: 0.167543\n",
      "- Test: -0.105948\n"
     ]
    }
   ],
   "source": [
    "compute_scores(rf, X_train_svd, X_test_svd, y_train, y_test, 'RF')"
   ]
  },
  {
   "cell_type": "markdown",
   "metadata": {},
   "source": [
    "## Multi-layer Perceptron Regressor (NN)"
   ]
  },
  {
   "cell_type": "code",
   "execution_count": 130,
   "metadata": {},
   "outputs": [],
   "source": [
    "mlp = MLPRegressor(max_iter=500, hidden_layer_sizes=(12,10,6), early_stopping=True).fit(X_train_svd, y_train)"
   ]
  },
  {
   "cell_type": "code",
   "execution_count": 138,
   "metadata": {
    "scrolled": true
   },
   "outputs": [
    {
     "name": "stdout",
     "output_type": "stream",
     "text": [
      "Absolute error for MLP:\n",
      "- Train: 907.6\n",
      "- Test: 865.28\n",
      "R2 score for MLP:\n",
      "- Train: 0.008523\n",
      "- Test: 0.011937\n"
     ]
    }
   ],
   "source": [
    "compute_scores(mlp, X_train_svd, X_test_svd, y_train, y_test, 'MLP')"
   ]
  },
  {
   "cell_type": "code",
   "execution_count": null,
   "metadata": {},
   "outputs": [],
   "source": []
  }
 ],
 "metadata": {
  "kernelspec": {
   "display_name": "Python 3 (ipykernel)",
   "language": "python",
   "name": "python3"
  },
  "language_info": {
   "codemirror_mode": {
    "name": "ipython",
    "version": 3
   },
   "file_extension": ".py",
   "mimetype": "text/x-python",
   "name": "python",
   "nbconvert_exporter": "python",
   "pygments_lexer": "ipython3",
   "version": "3.9.0"
  }
 },
 "nbformat": 4,
 "nbformat_minor": 4
}
