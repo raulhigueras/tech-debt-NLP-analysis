{
 "cells": [
  {
   "cell_type": "code",
   "execution_count": 44,
   "metadata": {},
   "outputs": [],
   "source": [
    "import pandas as pd\n",
    "import numpy as np\n",
    "import matplotlib.pyplot as plt\n",
    "\n",
    "from sklearn.feature_extraction.text import TfidfVectorizer\n",
    "from sklearn.decomposition import TruncatedSVD\n",
    "from sklearn.preprocessing import OneHotEncoder\n",
    "\n",
    "from sklearn.linear_model import LogisticRegression\n",
    "from sklearn.svm import SVC\n",
    "from sklearn.naive_bayes import GaussianNB\n",
    "from sklearn.ensemble import RandomForestClassifier\n",
    "from sklearn.dummy import DummyClassifier\n",
    "from sklearn.neighbors import KNeighborsClassifier\n",
    "from sklearn.neural_network import MLPClassifier\n",
    "\n",
    "from sklearn.model_selection import train_test_split"
   ]
  },
  {
   "cell_type": "markdown",
   "metadata": {},
   "source": [
    "# Loading data"
   ]
  },
  {
   "cell_type": "code",
   "execution_count": 45,
   "metadata": {},
   "outputs": [],
   "source": [
    "df_raw = pd.read_csv('../data/interim/preproc.csv', index_col=0)"
   ]
  },
  {
   "cell_type": "markdown",
   "metadata": {},
   "source": [
    "## Cleaning Data"
   ]
  },
  {
   "cell_type": "code",
   "execution_count": 49,
   "metadata": {},
   "outputs": [
    {
     "data": {
      "text/html": [
       "<div>\n",
       "<style scoped>\n",
       "    .dataframe tbody tr th:only-of-type {\n",
       "        vertical-align: middle;\n",
       "    }\n",
       "\n",
       "    .dataframe tbody tr th {\n",
       "        vertical-align: top;\n",
       "    }\n",
       "\n",
       "    .dataframe thead th {\n",
       "        text-align: right;\n",
       "    }\n",
       "</style>\n",
       "<table border=\"1\" class=\"dataframe\">\n",
       "  <thead>\n",
       "    <tr style=\"text-align: right;\">\n",
       "      <th></th>\n",
       "      <th>key</th>\n",
       "      <th>project_id</th>\n",
       "      <th>creation_date</th>\n",
       "      <th>resolution_date</th>\n",
       "      <th>type</th>\n",
       "      <th>num_commits</th>\n",
       "      <th>lines_added</th>\n",
       "      <th>lines_removed</th>\n",
       "      <th>files_changed</th>\n",
       "      <th>duration</th>\n",
       "      <th>text</th>\n",
       "      <th>inter_text</th>\n",
       "      <th>lines_modified</th>\n",
       "    </tr>\n",
       "  </thead>\n",
       "  <tbody>\n",
       "    <tr>\n",
       "      <th>0</th>\n",
       "      <td>ACCUMULO-4854</td>\n",
       "      <td>accumulo</td>\n",
       "      <td>2018-08-26T00:55:43.000+0000</td>\n",
       "      <td>2018-09-04T19:28:08.000+0000</td>\n",
       "      <td>Improvement</td>\n",
       "      <td>1</td>\n",
       "      <td>3</td>\n",
       "      <td>7</td>\n",
       "      <td>1</td>\n",
       "      <td>234.540278</td>\n",
       "      <td>dfslogger exception verbose dfslogger constant...</td>\n",
       "      <td>dfslogger exceptions are too verbose the dfslo...</td>\n",
       "      <td>10</td>\n",
       "    </tr>\n",
       "    <tr>\n",
       "      <th>1</th>\n",
       "      <td>ACCUMULO-4847</td>\n",
       "      <td>accumulo</td>\n",
       "      <td>2018-03-14T17:02:47.000+0000</td>\n",
       "      <td>2018-03-14T20:46:09.000+0000</td>\n",
       "      <td>Bug</td>\n",
       "      <td>2</td>\n",
       "      <td>705</td>\n",
       "      <td>559</td>\n",
       "      <td>10</td>\n",
       "      <td>3.722778</td>\n",
       "      <td>fix retry api accumulo exposed merge bug accum...</td>\n",
       "      <td>fix retry api accumulo 4834 exposed a merge bu...</td>\n",
       "      <td>1264</td>\n",
       "    </tr>\n",
       "    <tr>\n",
       "      <th>2</th>\n",
       "      <td>ACCUMULO-4836</td>\n",
       "      <td>accumulo</td>\n",
       "      <td>2018-03-01T14:59:21.000+0000</td>\n",
       "      <td>2018-03-19T18:56:29.000+0000</td>\n",
       "      <td>Bug</td>\n",
       "      <td>1</td>\n",
       "      <td>2</td>\n",
       "      <td>0</td>\n",
       "      <td>1</td>\n",
       "      <td>435.952222</td>\n",
       "      <td>table always wait online offline investigating...</td>\n",
       "      <td>tables do not always wait for online or offlin...</td>\n",
       "      <td>2</td>\n",
       "    </tr>\n",
       "    <tr>\n",
       "      <th>3</th>\n",
       "      <td>ACCUMULO-4835</td>\n",
       "      <td>accumulo</td>\n",
       "      <td>2018-02-28T17:54:40.000+0000</td>\n",
       "      <td>2018-03-06T20:11:17.000+0000</td>\n",
       "      <td>Bug</td>\n",
       "      <td>1</td>\n",
       "      <td>5</td>\n",
       "      <td>2</td>\n",
       "      <td>1</td>\n",
       "      <td>146.276944</td>\n",
       "      <td>client throw tablenotfoundexception saw mislea...</td>\n",
       "      <td>client should throw tablenotfoundexception i s...</td>\n",
       "      <td>7</td>\n",
       "    </tr>\n",
       "    <tr>\n",
       "      <th>4</th>\n",
       "      <td>ACCUMULO-4834</td>\n",
       "      <td>accumulo</td>\n",
       "      <td>2018-02-28T06:06:02.000+0000</td>\n",
       "      <td>2018-03-16T21:57:54.000+0000</td>\n",
       "      <td>Improvement</td>\n",
       "      <td>1</td>\n",
       "      <td>5</td>\n",
       "      <td>0</td>\n",
       "      <td>1</td>\n",
       "      <td>399.864444</td>\n",
       "      <td>locatorit timeout frequently hang locatorit ke...</td>\n",
       "      <td>locatorit has no timeout and frequently hangs ...</td>\n",
       "      <td>5</td>\n",
       "    </tr>\n",
       "  </tbody>\n",
       "</table>\n",
       "</div>"
      ],
      "text/plain": [
       "             key project_id                 creation_date  \\\n",
       "0  ACCUMULO-4854   accumulo  2018-08-26T00:55:43.000+0000   \n",
       "1  ACCUMULO-4847   accumulo  2018-03-14T17:02:47.000+0000   \n",
       "2  ACCUMULO-4836   accumulo  2018-03-01T14:59:21.000+0000   \n",
       "3  ACCUMULO-4835   accumulo  2018-02-28T17:54:40.000+0000   \n",
       "4  ACCUMULO-4834   accumulo  2018-02-28T06:06:02.000+0000   \n",
       "\n",
       "                resolution_date         type  num_commits  lines_added  \\\n",
       "0  2018-09-04T19:28:08.000+0000  Improvement            1            3   \n",
       "1  2018-03-14T20:46:09.000+0000          Bug            2          705   \n",
       "2  2018-03-19T18:56:29.000+0000          Bug            1            2   \n",
       "3  2018-03-06T20:11:17.000+0000          Bug            1            5   \n",
       "4  2018-03-16T21:57:54.000+0000  Improvement            1            5   \n",
       "\n",
       "   lines_removed  files_changed    duration  \\\n",
       "0              7              1  234.540278   \n",
       "1            559             10    3.722778   \n",
       "2              0              1  435.952222   \n",
       "3              2              1  146.276944   \n",
       "4              0              1  399.864444   \n",
       "\n",
       "                                                text  \\\n",
       "0  dfslogger exception verbose dfslogger constant...   \n",
       "1  fix retry api accumulo exposed merge bug accum...   \n",
       "2  table always wait online offline investigating...   \n",
       "3  client throw tablenotfoundexception saw mislea...   \n",
       "4  locatorit timeout frequently hang locatorit ke...   \n",
       "\n",
       "                                          inter_text  lines_modified  \n",
       "0  dfslogger exceptions are too verbose the dfslo...              10  \n",
       "1  fix retry api accumulo 4834 exposed a merge bu...            1264  \n",
       "2  tables do not always wait for online or offlin...               2  \n",
       "3  client should throw tablenotfoundexception i s...               7  \n",
       "4  locatorit has no timeout and frequently hangs ...               5  "
      ]
     },
     "execution_count": 49,
     "metadata": {},
     "output_type": "execute_result"
    }
   ],
   "source": [
    "# Remove entries with no data and outliers\n",
    "df = df_raw[(df_raw[\"num_commits\"]>0) & (df_raw[\"num_commits\"]<3e5)].dropna()\n",
    "\n",
    "# Select relevant projects\n",
    "good_projects = [proj for proj in set(df['project_id']) if sum(df['project_id'] == proj) > 500]\n",
    "df = df[df['project_id'].isin(good_projects)]\n",
    "\n",
    "# Generate new variables\n",
    "df['lines_modified'] = df['lines_added'] + df['lines_removed']\n",
    "df = df.reset_index(drop=True)\n",
    "df.head()"
   ]
  },
  {
   "cell_type": "code",
   "execution_count": 51,
   "metadata": {},
   "outputs": [
    {
     "data": {
      "image/png": "[encoded data removed]",
      "text/plain": [
       "<Figure size 1440x864 with 30 Axes>"
      ]
     },
     "metadata": {
      "needs_background": "light"
     },
     "output_type": "display_data"
    }
   ],
   "source": [
    "projects = list(set(df['project_id']))[0:10]\n",
    "fig, ax = plt.subplots(3, len(projects))\n",
    "fig.set_size_inches((20, 12))\n",
    "attrs = ['duration', 'lines_added', 'lines_modified']\n",
    "maxYValue = { \"duration\": 7000, \"lines_added\": 1000, 'lines_modified': 1300 }\n",
    "for j, attr in enumerate(attrs):\n",
    "    for i, proj in enumerate(projects):\n",
    "        ax[j,i].boxplot(df[df['project_id'] == proj][attr], showfliers=False);\n",
    "        ax[j,i].axis(ymin=0, ymax=maxYValue[attr])\n",
    "        ax[j,i].tick_params(axis='x', which='both', bottom=False, labelbottom=False)\n",
    "        if j == 2:\n",
    "            ax[j,i].set_xlabel(proj)\n",
    "        if i == 0:\n",
    "            ax[j,i].set_ylabel(attr)\n",
    "fig.suptitle(\"Distribution of difficulty attributes\");"
   ]
  },
  {
   "cell_type": "markdown",
   "metadata": {},
   "source": [
    "# Building training Dataset"
   ]
  },
  {
   "cell_type": "markdown",
   "metadata": {},
   "source": [
    "## Triain/Test split"
   ]
  },
  {
   "cell_type": "code",
   "execution_count": 54,
   "metadata": {},
   "outputs": [],
   "source": [
    "X_train, X_test = train_test_split(df, test_size=0.20, random_state=123)\n",
    "X_train = X_train.reset_index(drop=True)\n",
    "X_test = X_test.reset_index(drop=True)"
   ]
  },
  {
   "cell_type": "markdown",
   "metadata": {},
   "source": [
    "## Quantizing the target variable"
   ]
  },
  {
   "cell_type": "code",
   "execution_count": 97,
   "metadata": {},
   "outputs": [],
   "source": [
    "nclass = 3\n",
    "varname = 'lines_added'\n",
    "\n",
    "sorted_vals = df[varname].sort_values(ignore_index=True).values\n",
    "nvals = len(sorted_vals)\n",
    "inter_limits = [sorted_vals[int((i+1)/nclass*nvals)] for i in range(nclass-1)]\n",
    "limits = np.array([df[varname].min(), *inter_limits, df[varname].max()])\n",
    "limits_by_project = {}\n",
    "\n",
    "for proj in set(df['project_id']):\n",
    "    dff = df[df['project_id'] == proj].reset_index(drop=True)\n",
    "    sorted_vals = dff[varname].sort_values(ignore_index=True).values\n",
    "    nvals = len(sorted_vals)\n",
    "    inter_limits = [sorted_vals[int((i+1)/nclass*nvals)] for i in range(nclass-1)]\n",
    "    limits_by_project[proj] = np.array([dff[varname].min(), *inter_limits, dff[varname].max()])\n",
    "\n",
    "def get_target(x, limits):\n",
    "    return np.where(x >= limits)[0][-1]\n",
    "\n",
    "def get_target_proj(x, limits):\n",
    "    return np.where(x[varname] >= limits[x['project_id']])[0][-1]\n"
   ]
  },
  {
   "cell_type": "code",
   "execution_count": 98,
   "metadata": {},
   "outputs": [],
   "source": [
    "y_train = X_train[varname].apply(get_target, args=(limits,))\n",
    "y_test  = X_test[varname].apply(get_target, args=(limits,))\n",
    "\n",
    "#y_train = X_train[[varname, 'project_id']].apply(get_target_proj, args=(limits_by_project,), axis=1)\n",
    "#y_test  = X_test[[varname, 'project_id']].apply(get_target_proj, args=(limits_by_project,), axis=1)\n",
    "\n",
    "#y_train_ambari = X_train_ambari[[varname, 'project_id']].apply(get_target_proj, args=(limits_by_project,), axis=1)\n",
    "#y_test_ambari  = X_test_ambari[[varname, 'project_id']].apply(get_target_proj, args=(limits_by_project,), axis=1)"
   ]
  },
  {
   "cell_type": "markdown",
   "metadata": {},
   "source": [
    "## Computing the embeddings"
   ]
  },
  {
   "cell_type": "code",
   "execution_count": 58,
   "metadata": {},
   "outputs": [],
   "source": [
    "vectorizer = TfidfVectorizer()\n",
    "X_train_tfidf = vectorizer.fit_transform(X_train[\"text\"])\n",
    "svd = TruncatedSVD(n_components=500, random_state=123)\n",
    "X_train_svd = svd.fit_transform(X_train_tfidf)\n",
    "\n",
    "X_test_tfidf = vectorizer.transform(X_test[\"text\"])\n",
    "X_test_svd = svd.transform(X_test_tfidf)"
   ]
  },
  {
   "cell_type": "code",
   "execution_count": 60,
   "metadata": {},
   "outputs": [
    {
     "data": {
      "text/plain": [
       "((44304, 61057), (11076, 61057))"
      ]
     },
     "execution_count": 60,
     "metadata": {},
     "output_type": "execute_result"
    }
   ],
   "source": [
    "X_train_tfidf.shape, X_test_tfidf.shape"
   ]
  },
  {
   "cell_type": "markdown",
   "metadata": {},
   "source": [
    "**Interpretation of PCA**: More weighted words in the first 5 components. Showing the 3 most positive and the 3 most negative."
   ]
  },
  {
   "cell_type": "code",
   "execution_count": 91,
   "metadata": {},
   "outputs": [
    {
     "name": "stdout",
     "output_type": "stream",
     "text": [
      "Component #0\n",
      "    Most negative words: [('getprimitivetypeentry', '0.00'), ('grissom', '0.00'), ('birchwood', '0.00')]\n",
      "    Most positive words: [('test', '0.16'), ('service', '0.21'), ('file', '0.26')]\n",
      "Component #1\n",
      "    Most negative words: [('service', '-0.25'), ('host', '-0.23'), ('page', '-0.17')]\n",
      "    Most positive words: [('test', '0.11'), ('line', '0.49'), ('file', '0.60')]\n",
      "Component #2\n",
      "    Most negative words: [('service', '-0.32'), ('line', '-0.28'), ('file', '-0.26')]\n",
      "    Most positive words: [('unit', '0.13'), ('table', '0.28'), ('test', '0.44')]\n",
      "Component #3\n",
      "    Most negative words: [('table', '-0.35'), ('column', '-0.13'), ('partition', '-0.11')]\n",
      "    Most positive words: [('service', '0.14'), ('unit', '0.26'), ('test', '0.68')]\n",
      "Component #4\n",
      "    Most negative words: [('host', '-0.42'), ('table', '-0.24'), ('page', '-0.19')]\n",
      "    Most positive words: [('stack', '0.20'), ('version', '0.38'), ('upgrade', '0.45')]\n"
     ]
    }
   ],
   "source": [
    "inv_vocab = {val:key for key,val in vectorizer.vocabulary_.items()}\n",
    "sorted_comp = np.argsort(svd.components_[:5,:])\n",
    "mat = np.hstack([sorted_comp[:,:3], sorted_comp[:,-3:]]).tolist()\n",
    "words = [[inv_vocab[x] for x in ls] for ls in mat]\n",
    "for i, comp in enumerate(words):\n",
    "    wpos,wneg = svd.components_[i,mat[i][:3]], svd.components_[i,mat[i][-3:]]\n",
    "    wpos = [f\"{d:.02f}\" for d in wpos]\n",
    "    wneg = [f\"{d:.02f}\" for d in wneg]\n",
    "    print(f\"Component #{i}\")\n",
    "    print(f\"    Most negative words: {list(zip(comp[:3], wpos))}\")\n",
    "    print(f\"    Most positive words: {list(zip(comp[3:], wneg))}\")\n"
   ]
  },
  {
   "cell_type": "code",
   "execution_count": 71,
   "metadata": {},
   "outputs": [
    {
     "data": {
      "image/png": "[encoded data removed]",
      "text/plain": [
       "<Figure size 432x288 with 1 Axes>"
      ]
     },
     "metadata": {
      "needs_background": "light"
     },
     "output_type": "display_data"
    }
   ],
   "source": [
    "plt.plot(range(500), svd.explained_variance_ratio_[:500])\n",
    "plt.gca().set_title('Explained variance');\n",
    "plt.gca().set_xlabel('Principal component');"
   ]
  },
  {
   "cell_type": "markdown",
   "metadata": {},
   "source": [
    "## Add the type information as OneHot vector"
   ]
  },
  {
   "cell_type": "code",
   "execution_count": 92,
   "metadata": {},
   "outputs": [],
   "source": [
    "enc = OneHotEncoder()\n",
    "enc.fit(np.asarray(df['type']).reshape(-1,1))\n",
    "\n",
    "X_train_onehot = enc.transform(np.asarray(X_train['type']).reshape(-1,1))\n",
    "X_test_onehot = enc.transform(np.asarray(X_test['type']).reshape(-1,1))"
   ]
  },
  {
   "cell_type": "code",
   "execution_count": 93,
   "metadata": {},
   "outputs": [],
   "source": [
    "#import pickle \n",
    "#pickle.dump(enc, open('onehotenc.pkl', 'wb'))"
   ]
  },
  {
   "cell_type": "code",
   "execution_count": 94,
   "metadata": {},
   "outputs": [],
   "source": [
    "from scipy.sparse import hstack\n",
    "\n",
    "X_train_svd = hstack((X_train_svd, X_train_onehot))\n",
    "X_test_svd = hstack((X_test_svd, X_test_onehot))"
   ]
  },
  {
   "cell_type": "markdown",
   "metadata": {},
   "source": [
    "# Models"
   ]
  },
  {
   "cell_type": "code",
   "execution_count": 99,
   "metadata": {},
   "outputs": [
    {
     "data": {
      "text/plain": [
       "(0.5217361863488624, 0.5047851209823041)"
      ]
     },
     "execution_count": 99,
     "metadata": {},
     "output_type": "execute_result"
    }
   ],
   "source": [
    "clf = LogisticRegression(max_iter=700, penalty='l2', warm_start=True, random_state=123).fit(X_train_svd, y_train)\n",
    "clf.score(X_train_svd, y_train), clf.score(X_test_svd, y_test)"
   ]
  },
  {
   "cell_type": "code",
   "execution_count": 96,
   "metadata": {},
   "outputs": [],
   "source": [
    "#pickle.dump(clf, open('classifier3.pkl', 'wb') )"
   ]
  },
  {
   "cell_type": "code",
   "execution_count": 51,
   "metadata": {},
   "outputs": [
    {
     "data": {
      "text/plain": [
       "(0.4974045545880777, 0.454370395177495)"
      ]
     },
     "execution_count": 51,
     "metadata": {},
     "output_type": "execute_result"
    }
   ],
   "source": [
    "rfc = RandomForestClassifier(max_depth=7,n_estimators=256, n_jobs=-1, random_state=123).fit(X_train_svd, y_train)\n",
    "rfc.score(X_train_svd, y_train), rfc.score(X_test_svd, y_test)"
   ]
  },
  {
   "cell_type": "code",
   "execution_count": 52,
   "metadata": {},
   "outputs": [
    {
     "data": {
      "text/plain": [
       "(0.5456086738111185, 0.4168620227729404)"
      ]
     },
     "execution_count": 52,
     "metadata": {},
     "output_type": "execute_result"
    }
   ],
   "source": [
    "knn = KNeighborsClassifier(n_neighbors=10, p=2).fit(X_train_svd.toarray()[:,0:500], y_train)\n",
    "knn.score(X_train_svd.toarray()[:,0:500], y_train), knn.score(X_test_svd.toarray()[:,0:500], y_test)"
   ]
  },
  {
   "cell_type": "code",
   "execution_count": 51,
   "metadata": {},
   "outputs": [
    {
     "data": {
      "text/plain": [
       "(0.5226682853315472, 0.500669792364367)"
      ]
     },
     "execution_count": 51,
     "metadata": {},
     "output_type": "execute_result"
    }
   ],
   "source": [
    "mlp = MLPClassifier(hidden_layer_sizes=(15,10,5), max_iter=500, activation='relu', early_stopping=True, warm_start=True, random_state=123).fit(X_train_svd, y_train)\n",
    "mlp.score(X_train_svd, y_train), mlp.score(X_test_svd, y_test)"
   ]
  },
  {
   "cell_type": "markdown",
   "metadata": {},
   "source": [
    "# Fine-tuning"
   ]
  },
  {
   "cell_type": "code",
   "execution_count": null,
   "metadata": {},
   "outputs": [
    {
     "name": "stdout",
     "output_type": "stream",
     "text": [
      "General:  0.6634084058941728 0.6560616208975217\n",
      "org.apache:felix:  0.7037671232876712 0.6318537859007833\n",
      "org.apache:cayenne:  0.7265917602996255 0.6464285714285715\n",
      "org.apache:net:  0.6943231441048034 0.5616438356164384\n",
      "org.apache:codec:  0.7426470588235294 0.6875\n",
      "org.apache:ognl:  0.8148148148148148 0.5\n",
      "accumulo:  0.6957065443934973 0.618018018018018\n",
      "org.apache:santuario:  0.6388888888888888 0.68\n",
      "org.apache:zookeeper:  0.7470817120622568 0.7302798982188295\n",
      "org.apache:cocoon:  0.7058823529411765 0.6078431372549019\n",
      "org.apache:httpclient:  0.6608084358523726 0.56875\n",
      "aurora:  0.6902106567534076 0.6302083333333334\n",
      "org.apache:httpcore:  0.7002724795640327 0.6710526315789473\n",
      "org.apache:vfs:  0.7967213114754098 0.6282051282051282\n",
      "org.apache:beanutils:  0.7297297297297297 0.5625\n",
      "org.apache:collections:  0.7155963302752294 0.625\n",
      "org.apache:bcel:  0.8045977011494253 0.6666666666666666\n",
      "org.apache:commons-fileupload:  0.6790123456790124 0.5238095238095238\n",
      "org.apache:configuration:  0.7302631578947368 0.6933333333333334\n",
      "org.apache:commons-jelly:  0.6785714285714286 0.4\n",
      "org.apache:batik:  0.7727272727272727 0.4444444444444444\n",
      "atlas:  0.7484939759036144 0.6267806267806267\n",
      "org.apache:digester:  0.78 1.0\n",
      "org.apache:dbutils:  0.7708333333333334 0.5789473684210527\n",
      "org.apache:validator:  0.6724137931034483 0.4482758620689655\n",
      "org.apache:jxpath:  0.8913043478260869 0.6\n",
      "org.apache:thrift:  0.7001862197392924 0.6681034482758621\n",
      "commons-exec:  0.6923076923076923 0.2857142857142857\n",
      "org.apache:daemon:  0.696 0.6071428571428571\n",
      "org.apache:dbcp:  0.6581632653061225 0.5365853658536586\n",
      "beam:  0.731941309255079 0.6583710407239819\n",
      "org.apache:commons-cli:  0.7560975609756098 0.5\n",
      "org.apache:commons-io:  0.7804054054054054 0.7209302325581395\n",
      "ambari:  0.6875116669777861 0.6632829908393166\n",
      "org.apache:archiva:  0.7339699863574352 0.6464646464646465\n",
      "org.apache:hive:  0.6816083791940352 0.6808735470235998\n",
      "org.apache:commons-jexl:  0.765 0.5348837209302325\n",
      "mina-sshd:  0.7344028520499108 0.7006369426751592\n"
     ]
    }
   ],
   "source": [
    "lr = LogisticRegression(max_iter=700, penalty='l2', warm_start=True, fit_intercept=True, random_state=123).fit(X_train_svd, y_train)\n",
    "orig_coef = lr.coef_.copy()\n",
    "print(\"General: \", lr.score(X_train_svd, y_train), lr.score(X_test_svd, y_test))\n",
    "\n",
    "for proj in good_projects:\n",
    "    lr = LogisticRegression(max_iter=700, penalty='l2', warm_start=True, fit_intercept=True, random_state=123).fit(X_train_svd, y_train)\n",
    "\n",
    "    X_train_svd2 = X_train_svd.toarray()[X_train['project_id'] == proj,:]\n",
    "    X_test_svd2 = X_test_svd.toarray()[X_test['project_id'] == proj,:]\n",
    "    y_train2 = y_train[X_train['project_id'] == proj]\n",
    "    y_test2 = y_test[X_test['project_id'] == proj]\n",
    "    try:\n",
    "        lr.fit(X_train_svd2, y_train2)\n",
    "        print(f\"{proj}: \", lr.score(X_train_svd2, y_train2), lr.score(X_test_svd2, y_test2))\n",
    "    except:\n",
    "        print(f\"{proj}: ???\")\n",
    "    "
   ]
  },
  {
   "cell_type": "markdown",
   "metadata": {},
   "source": [
    "# Example of Usage"
   ]
  },
  {
   "cell_type": "code",
   "execution_count": 22,
   "metadata": {},
   "outputs": [
    {
     "data": {
      "text/plain": [
       "(array([ 7927, 17161, 19152, 30404, 45337, 51565, 62693]),\n",
       " matrix([[0.4333874 , 0.49014179, 0.42175007, 0.32731719, 0.33931625,\n",
       "          0.29170108, 0.2944515 ]]))"
      ]
     },
     "execution_count": 22,
     "metadata": {},
     "output_type": "execute_result"
    }
   ],
   "source": [
    "example = \"problem connect database server access host URL\"\n",
    "vec = vectorizer.transform([example])\n",
    "np.where(vec.todense() != 0)[1], vec[vec != 0]"
   ]
  },
  {
   "cell_type": "code",
   "execution_count": 48,
   "metadata": {},
   "outputs": [
    {
     "name": "stdout",
     "output_type": "stream",
     "text": [
      "[[ 1.59020101e-01 -8.61740893e-02  2.30916304e-02  2.72452873e-02\n",
      "  -7.47087360e-02 -2.36682590e-01  1.79440184e-02 -9.20618245e-02\n",
      "   2.83661976e-02 -5.48886545e-02  9.50063720e-02  9.96040575e-03\n",
      "  -5.21584001e-03 -1.14625038e-01 -9.12156243e-03 -2.68946365e-02\n",
      "  -1.03235152e-01 -8.80194703e-02  7.60921849e-02 -1.45645185e-01\n",
      "  -9.05452149e-02 -7.22527384e-02  1.17961798e-01  3.04041198e-02\n",
      "   6.61425771e-02  3.83440835e-02 -1.25269967e-01 -4.33458433e-02\n",
      "  -7.91939970e-02 -3.82247893e-02  4.93949542e-03 -7.90190605e-02\n",
      "   8.02078890e-02 -6.15467674e-02  6.20655799e-02  4.71443579e-03\n",
      "   2.20548916e-02 -4.27351000e-02 -3.69460923e-02  6.15977043e-02\n",
      "  -2.73892610e-02  3.05304468e-02 -3.75701052e-03  5.30915311e-02\n",
      "  -3.43068094e-03 -3.99186872e-02 -3.52791859e-02 -2.48907292e-02\n",
      "   2.12661319e-02  1.70851096e-02 -1.08779341e-02  8.18292509e-02\n",
      "  -3.54123442e-03 -3.10538156e-02 -1.77963336e-03 -3.12620437e-02\n",
      "  -5.10171781e-03 -8.66606742e-02  4.11623074e-02  3.97571395e-02\n",
      "  -3.81655579e-02  3.30674039e-02 -7.51966556e-02 -4.04284961e-02\n",
      "   2.28047164e-02 -3.86858746e-02  1.06959890e-03  2.98975355e-02\n",
      "   1.27542459e-02 -4.47943447e-04  1.45586929e-02 -3.22089953e-02\n",
      "  -3.38911030e-02  1.81443417e-02 -1.06038314e-02  2.29668512e-03\n",
      "   3.96381175e-02  1.62077820e-02  1.12766160e-04  6.95575455e-03\n",
      "   1.24361828e-02  4.84374927e-02 -8.83073631e-03  4.42240916e-02\n",
      "   5.56533514e-02  2.21374948e-03 -5.09371110e-02  2.80145269e-02\n",
      "   3.00505536e-02 -3.34095937e-02 -4.21622206e-02 -2.21567636e-03\n",
      "  -1.89891642e-02 -3.18424079e-02 -3.49920468e-04 -5.94969138e-03\n",
      "  -3.55688796e-02  1.70557775e-02  3.80662692e-02 -6.28127067e-04\n",
      "   3.00730011e-02  2.73889404e-02  1.38377731e-02  2.77476652e-02\n",
      "  -7.03772071e-03 -3.82086318e-03 -6.39868755e-03 -1.21270213e-02\n",
      "  -3.07213809e-02  1.64589552e-02 -3.06716391e-02 -1.79959363e-02\n",
      "  -6.05070264e-02  1.76778995e-02  2.47211629e-02  4.97535706e-02\n",
      "  -5.68123873e-03  1.43376834e-02  3.37038555e-02  2.39609054e-02\n",
      "  -4.15872864e-02  2.77229490e-02 -5.06005906e-02  3.37099158e-02\n",
      "   2.56148605e-02  1.42963033e-02  4.26668812e-02  9.78158607e-02\n",
      "   4.31404369e-02  1.50393464e-03  4.65822668e-02  3.99086137e-02\n",
      "  -1.64122152e-03 -1.54061261e-02 -7.59838831e-02  9.62574149e-02\n",
      "   9.56661839e-05 -3.66364613e-03 -1.55500881e-02  9.47487246e-03\n",
      "  -5.26552912e-02 -1.11587420e-02  8.51046434e-03 -4.33294140e-02\n",
      "  -1.96523358e-02  1.92849105e-02  4.10329278e-03  1.34335223e-02\n",
      "  -3.85212272e-02  2.56654897e-02  1.54481051e-03 -4.43057597e-02\n",
      "   7.05642584e-02 -5.73061885e-02 -6.75469602e-02 -1.01158420e-02\n",
      "  -9.59028017e-02 -5.56403949e-02  1.41858297e-02 -7.76592185e-03\n",
      "   5.47160584e-02  6.15978945e-03 -4.62499763e-02  3.40253990e-02\n",
      "   8.43959793e-03  7.35834841e-02  3.77765980e-02 -2.07937085e-02\n",
      "  -3.62361282e-02  1.00327878e-02 -1.46818219e-02 -1.81666306e-02\n",
      "   9.73416090e-03  3.02570026e-02  4.79910574e-02  1.15376114e-02\n",
      "   3.86520938e-02  2.55059653e-02 -1.47392471e-02  5.83267659e-03\n",
      "   9.76254901e-04  6.35054792e-02  1.29594329e-02  3.78388981e-02\n",
      "  -2.12283789e-02  2.52862468e-02  2.21632058e-02 -2.86900424e-04\n",
      "   3.40577329e-02  1.72118512e-02  3.03671259e-02  2.48974982e-02\n",
      "   1.02704679e-02  4.73445736e-02  3.78018191e-02 -2.38124617e-02\n",
      "   1.55026668e-02 -7.29697755e-03  6.05887982e-03 -4.01626953e-02\n",
      "  -1.93976063e-02 -4.79267806e-02  1.64419687e-02  1.90429659e-02\n",
      "  -6.93431966e-03  2.17356717e-02 -1.44036903e-02 -1.70816885e-02\n",
      "  -3.24691338e-02 -5.38882613e-02 -1.62812545e-02 -4.47907447e-03\n",
      "   4.66905017e-02  1.45148238e-02 -5.82131940e-02 -1.95198330e-02\n",
      "  -3.06180823e-02 -6.81472789e-03  1.52326355e-03 -3.30460000e-02\n",
      "  -1.26682981e-02 -1.77817688e-03  9.94063399e-03  3.79577137e-02\n",
      "  -2.82678396e-02  1.68149561e-02 -1.69851862e-02 -2.56819250e-02\n",
      "   2.16311614e-02 -1.64801654e-02  1.21134384e-02 -8.45406477e-03\n",
      "  -1.33712184e-02  1.12059166e-02  2.95701291e-02  1.85124113e-02\n",
      "   7.50716656e-03 -3.18050573e-02 -8.72299947e-03 -2.12892133e-02\n",
      "   3.17452745e-03 -1.96644740e-02 -2.07401564e-02 -2.54256074e-02\n",
      "   1.54783183e-02  1.79393273e-02 -1.48108384e-02 -1.23095025e-02\n",
      "  -4.43097580e-03  1.43525354e-02  3.33658224e-03 -3.70021707e-02\n",
      "  -2.83310665e-02 -3.44772137e-02 -3.57804769e-02  2.75617798e-02\n",
      "  -1.32032772e-02 -1.15447171e-02 -2.01811540e-02  2.51984016e-02\n",
      "  -5.46180128e-02 -2.69929908e-03  1.73682624e-03  1.50268410e-02\n",
      "   3.31942763e-02 -4.08267274e-03  4.09401508e-02  3.04452948e-02\n",
      "   2.93877169e-03 -4.40644975e-02 -4.55785722e-03 -1.97611847e-02\n",
      "   2.06351900e-02 -4.19499838e-02  7.60757849e-02  3.96318118e-02\n",
      "   1.26217755e-02 -5.63573441e-02 -4.54274550e-02 -3.41177984e-02\n",
      "  -6.74298489e-02 -8.18394503e-04 -3.64802723e-02  3.27853262e-02\n",
      "   2.36677915e-02 -5.61029643e-02  5.96772688e-02 -2.80070049e-02\n",
      "   1.03336265e-02 -4.39601457e-02  7.46985755e-03 -6.74859420e-03\n",
      "   1.67504385e-02 -2.05888291e-03  2.22894107e-02 -1.14715126e-02\n",
      "   2.30949597e-02  1.80058579e-02  2.83078501e-02 -8.66714062e-03\n",
      "  -1.90072571e-02  7.25539715e-02  6.33962477e-02  1.96242921e-02\n",
      "   2.75154151e-02 -5.16313446e-02  3.20323179e-02 -4.27944437e-02\n",
      "   5.00443654e-02  8.11432736e-03  5.70031565e-03  8.15577918e-02\n",
      "  -4.36659273e-03 -1.61122365e-02 -5.06735326e-02 -4.42462256e-02\n",
      "  -4.01290556e-02 -8.28277056e-02  3.55081909e-02 -3.25384392e-02\n",
      "  -2.26783439e-02  8.07510299e-04  8.33043113e-03 -2.88406931e-02\n",
      "   2.72330296e-02 -5.71388976e-02  8.56810609e-02 -1.04111089e-02\n",
      "  -2.84357645e-02 -1.02471498e-03  8.49618426e-03 -1.91905841e-03\n",
      "   8.68099175e-03  1.49093634e-02  1.52099156e-02  3.16686852e-02\n",
      "  -6.22295273e-02 -5.53513871e-02  4.07580036e-02  1.56149415e-02\n",
      "   6.55611876e-02 -7.74641813e-02  1.21511756e-02 -4.07124362e-03\n",
      "  -3.34634986e-02 -7.77821544e-02 -8.11945593e-02 -4.68758675e-02\n",
      "   1.34955260e-02  6.47536376e-02  6.28359053e-02  3.21878244e-02\n",
      "   3.67866155e-02  6.03027890e-02  2.31319693e-04  3.01071747e-02\n",
      "   2.07098692e-02  6.61533141e-02  9.40860208e-03 -6.66342977e-02\n",
      "  -9.78294379e-02 -6.07908168e-02 -2.78404412e-02  8.57522823e-02\n",
      "   5.13808454e-02 -3.25194254e-03 -7.06842576e-03  5.66051036e-02\n",
      "  -3.99838328e-02  3.41304473e-02 -3.96345557e-02 -1.98780270e-02\n",
      "   1.39125764e-02  2.41632440e-03 -6.67659053e-02  1.29855251e-02\n",
      "   4.28870398e-02  6.27345669e-02  3.50115741e-03 -1.57650738e-02\n",
      "   5.80282729e-02 -6.29780091e-03 -3.31521661e-02 -3.60464526e-02\n",
      "  -2.83012036e-02  2.53249489e-02  4.36691241e-02  8.53582336e-03\n",
      "  -3.00837477e-02  2.49935804e-02 -2.78427740e-02 -1.60790979e-02\n",
      "   1.72713523e-02 -1.59786912e-02  7.86582897e-03 -6.33513581e-03\n",
      "   1.60841791e-02 -1.96494440e-04  1.11832418e-02  6.28460784e-03\n",
      "  -2.79261579e-03 -2.34285871e-02 -3.05929101e-02 -8.32664823e-03\n",
      "   1.96482445e-02 -4.80520729e-03 -3.24056275e-02  1.41823071e-02\n",
      "   4.31778702e-04  2.62289713e-02  2.65056231e-02 -4.08701059e-02\n",
      "   3.06219273e-02 -7.22902920e-03  2.11512339e-02  2.13015120e-03\n",
      "  -2.45022383e-02 -9.25934197e-03  1.90107728e-02  9.38491086e-03\n",
      "  -6.52194923e-03 -1.28007583e-02  1.55287157e-02  6.35787275e-03\n",
      "  -2.62778054e-02  4.57174065e-03  2.51770632e-02 -7.89401277e-03\n",
      "   4.82214307e-04  1.28158174e-02 -4.90653150e-03  2.92153187e-02\n",
      "  -1.22264436e-02  2.43219123e-03  1.02800427e-02 -4.64382911e-03\n",
      "   3.02827978e-02  6.63532940e-03 -2.52443381e-02  8.94792107e-03\n",
      "  -6.59521768e-03 -1.75064553e-02 -1.46414011e-02 -2.27799214e-02\n",
      "   9.49578120e-03 -1.59239345e-02 -1.74828520e-02  9.41997106e-03\n",
      "   1.37206686e-02 -1.88594860e-03  5.07714653e-04  2.74879854e-03\n",
      "   4.43755559e-03  9.25925463e-03  9.00167171e-03  8.40594709e-04\n",
      "   3.20847928e-02  4.31108402e-02  1.28040946e-02 -2.97981241e-02\n",
      "  -4.80561342e-03 -2.18800965e-02 -5.99258815e-04 -1.19648959e-02\n",
      "  -8.55788142e-03  3.49029799e-03  7.90407146e-03 -2.11349570e-02\n",
      "  -2.66564397e-03 -2.49366858e-02  1.69604939e-02 -8.04097388e-03\n",
      "  -2.43682741e-02  2.12763209e-02 -1.29076575e-02  1.97885326e-02\n",
      "  -5.82352080e-04 -6.14748708e-03  1.70916220e-02 -3.28297257e-03\n",
      "   8.38075097e-05  1.85394177e-02 -7.17897498e-03  3.11107708e-02\n",
      "   1.09102692e-02 -6.96122405e-03 -6.61342083e-03 -5.38069569e-03\n",
      "  -3.81912468e-03  1.65806600e-02 -5.01075528e-03 -4.98923791e-03\n",
      "  -2.88018198e-02 -3.08372012e-03 -2.87423330e-02  2.87282644e-03\n",
      "   2.04146292e-02  1.77218213e-02 -1.04107758e-02 -8.18946537e-03]]\n"
     ]
    }
   ],
   "source": [
    "print(svd.transform(vec))"
   ]
  }
 ],
 "metadata": {
  "interpreter": {
   "hash": "aee8b7b246df8f9039afb4144a1f6fd8d2ca17a180786b69acc140d282b71a49"
  },
  "kernelspec": {
   "display_name": "Python 3.9.7 64-bit",
   "name": "python3"
  },
  "language_info": {
   "codemirror_mode": {
    "name": "ipython",
    "version": 3
   },
   "file_extension": ".py",
   "mimetype": "text/x-python",
   "name": "python",
   "nbconvert_exporter": "python",
   "pygments_lexer": "ipython3",
   "version": "3.9.7"
  },
  "orig_nbformat": 4
 },
 "nbformat": 4,
 "nbformat_minor": 2
}
