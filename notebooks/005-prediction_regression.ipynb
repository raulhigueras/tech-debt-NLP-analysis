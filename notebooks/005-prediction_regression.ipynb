{
 "cells": [
  {
   "cell_type": "code",
   "execution_count": 162,
   "metadata": {},
   "outputs": [],
   "source": [
    "import pandas as pd\n",
    "import numpy as np\n",
    "import matplotlib.pyplot as plt\n",
    "\n",
    "from gensim.models import TfidfModel\n",
    "from gensim.corpora import Dictionary\n",
    "\n",
    "from sklearn.feature_extraction.text import TfidfVectorizer\n",
    "from sklearn.decomposition import TruncatedSVD\n",
    "\n",
    "from sklearn.linear_model import LinearRegression, Ridge\n",
    "from sklearn.svm import SVC\n",
    "from sklearn.naive_bayes import GaussianNB\n",
    "from sklearn.ensemble import RandomForestRegressor\n",
    "from sklearn.neural_network import MLPRegressor\n",
    "\n",
    "from sklearn.metrics import mean_absolute_error, mean_squared_error, accuracy_score, r2_score\n",
    "\n",
    "from sklearn.model_selection import train_test_split"
   ]
  },
  {
   "cell_type": "code",
   "execution_count": 177,
   "metadata": {},
   "outputs": [
    {
     "data": {
      "text/html": [
       "<div>\n",
       "<style scoped>\n",
       "    .dataframe tbody tr th:only-of-type {\n",
       "        vertical-align: middle;\n",
       "    }\n",
       "\n",
       "    .dataframe tbody tr th {\n",
       "        vertical-align: top;\n",
       "    }\n",
       "\n",
       "    .dataframe thead th {\n",
       "        text-align: right;\n",
       "    }\n",
       "</style>\n",
       "<table border=\"1\" class=\"dataframe\">\n",
       "  <thead>\n",
       "    <tr style=\"text-align: right;\">\n",
       "      <th></th>\n",
       "      <th>key</th>\n",
       "      <th>project_id</th>\n",
       "      <th>creation_date</th>\n",
       "      <th>resolution_date</th>\n",
       "      <th>type</th>\n",
       "      <th>lines_added</th>\n",
       "      <th>num_commits</th>\n",
       "      <th>lines_removed</th>\n",
       "      <th>files_changed</th>\n",
       "      <th>duration</th>\n",
       "      <th>text</th>\n",
       "      <th>inter_text</th>\n",
       "      <th>lines_modified</th>\n",
       "    </tr>\n",
       "  </thead>\n",
       "  <tbody>\n",
       "    <tr>\n",
       "      <th>8</th>\n",
       "      <td>EXEC-100</td>\n",
       "      <td>commons-exec</td>\n",
       "      <td>2016-01-11T16:45:23.000+0000</td>\n",
       "      <td>2016-01-11T18:01:01.000+0000</td>\n",
       "      <td>Task</td>\n",
       "      <td>2</td>\n",
       "      <td>189</td>\n",
       "      <td>133</td>\n",
       "      <td>3</td>\n",
       "      <td>1.260556</td>\n",
       "      <td>sync newest ant source file class copy pasta o...</td>\n",
       "      <td>sync with the newest ant source file the class...</td>\n",
       "      <td>322</td>\n",
       "    </tr>\n",
       "    <tr>\n",
       "      <th>10</th>\n",
       "      <td>EXEC-98</td>\n",
       "      <td>commons-exec</td>\n",
       "      <td>2016-01-08T21:40:01.000+0000</td>\n",
       "      <td>2016-01-09T00:59:19.000+0000</td>\n",
       "      <td>Bug</td>\n",
       "      <td>3</td>\n",
       "      <td>345</td>\n",
       "      <td>195</td>\n",
       "      <td>11</td>\n",
       "      <td>3.321667</td>\n",
       "      <td>maven site creation fails findbugs error getti...</td>\n",
       "      <td>maven site creation fails with findbugs errors...</td>\n",
       "      <td>540</td>\n",
       "    </tr>\n",
       "    <tr>\n",
       "      <th>27</th>\n",
       "      <td>EXEC-81</td>\n",
       "      <td>commons-exec</td>\n",
       "      <td>2014-02-04T04:35:59.000+0000</td>\n",
       "      <td>2014-04-21T23:39:27.000+0000</td>\n",
       "      <td>Improvement</td>\n",
       "      <td>2</td>\n",
       "      <td>35</td>\n",
       "      <td>26</td>\n",
       "      <td>8</td>\n",
       "      <td>1843.057778</td>\n",
       "      <td>remove remaining raw type unchecked conversion...</td>\n",
       "      <td>remove remaining raw types unchecked conversio...</td>\n",
       "      <td>61</td>\n",
       "    </tr>\n",
       "    <tr>\n",
       "      <th>28</th>\n",
       "      <td>EXEC-80</td>\n",
       "      <td>commons-exec</td>\n",
       "      <td>2014-02-01T18:38:32.000+0000</td>\n",
       "      <td>2014-02-04T05:20:30.000+0000</td>\n",
       "      <td>Bug</td>\n",
       "      <td>1</td>\n",
       "      <td>32</td>\n",
       "      <td>1</td>\n",
       "      <td>3</td>\n",
       "      <td>58.699444</td>\n",
       "      <td>npe map drilled problem class method checked u...</td>\n",
       "      <td>npe in map  i have drilled down a problem in t...</td>\n",
       "      <td>33</td>\n",
       "    </tr>\n",
       "    <tr>\n",
       "      <th>33</th>\n",
       "      <td>EXEC-75</td>\n",
       "      <td>commons-exec</td>\n",
       "      <td>2013-12-08T11:42:40.000+0000</td>\n",
       "      <td>2014-06-06T09:12:31.000+0000</td>\n",
       "      <td>Test</td>\n",
       "      <td>1</td>\n",
       "      <td>7</td>\n",
       "      <td>0</td>\n",
       "      <td>1</td>\n",
       "      <td>4317.497500</td>\n",
       "      <td>test matrix update java mac o x hello might in...</td>\n",
       "      <td>test matrix update for java 7 on mac os x  hel...</td>\n",
       "      <td>7</td>\n",
       "    </tr>\n",
       "  </tbody>\n",
       "</table>\n",
       "</div>"
      ],
      "text/plain": [
       "         key    project_id                 creation_date  \\\n",
       "8   EXEC-100  commons-exec  2016-01-11T16:45:23.000+0000   \n",
       "10   EXEC-98  commons-exec  2016-01-08T21:40:01.000+0000   \n",
       "27   EXEC-81  commons-exec  2014-02-04T04:35:59.000+0000   \n",
       "28   EXEC-80  commons-exec  2014-02-01T18:38:32.000+0000   \n",
       "33   EXEC-75  commons-exec  2013-12-08T11:42:40.000+0000   \n",
       "\n",
       "                 resolution_date         type  lines_added  num_commits  \\\n",
       "8   2016-01-11T18:01:01.000+0000         Task            2          189   \n",
       "10  2016-01-09T00:59:19.000+0000          Bug            3          345   \n",
       "27  2014-04-21T23:39:27.000+0000  Improvement            2           35   \n",
       "28  2014-02-04T05:20:30.000+0000          Bug            1           32   \n",
       "33  2014-06-06T09:12:31.000+0000         Test            1            7   \n",
       "\n",
       "    lines_removed  files_changed     duration  \\\n",
       "8             133              3     1.260556   \n",
       "10            195             11     3.321667   \n",
       "27             26              8  1843.057778   \n",
       "28              1              3    58.699444   \n",
       "33              0              1  4317.497500   \n",
       "\n",
       "                                                 text  \\\n",
       "8   sync newest ant source file class copy pasta o...   \n",
       "10  maven site creation fails findbugs error getti...   \n",
       "27  remove remaining raw type unchecked conversion...   \n",
       "28  npe map drilled problem class method checked u...   \n",
       "33  test matrix update java mac o x hello might in...   \n",
       "\n",
       "                                           inter_text  lines_modified  \n",
       "8   sync with the newest ant source file the class...             322  \n",
       "10  maven site creation fails with findbugs errors...             540  \n",
       "27  remove remaining raw types unchecked conversio...              61  \n",
       "28  npe in map  i have drilled down a problem in t...              33  \n",
       "33  test matrix update for java 7 on mac os x  hel...               7  "
      ]
     },
     "execution_count": 177,
     "metadata": {},
     "output_type": "execute_result"
    }
   ],
   "source": [
    "df_raw = pd.read_csv('../data/interim/preproc.csv', index_col=0)\n",
    "\n",
    "df = df_raw[(df_raw[\"lines_added\"]>0) & (df_raw['num_commits']<3e5) & (df_raw['lines_removed']<3e6)].dropna()\n",
    "\n",
    "target = 'lines_modified'\n",
    "df[target] = df['num_commits']+df['lines_removed']\n",
    "\n",
    "df.head()"
   ]
  },
  {
   "cell_type": "markdown",
   "metadata": {},
   "source": [
    "# Loading Data"
   ]
  },
  {
   "cell_type": "code",
   "execution_count": 178,
   "metadata": {},
   "outputs": [
    {
     "data": {
      "image/png": "[encoded data removed]",
      "text/plain": [
       "<Figure size 432x288 with 1 Axes>"
      ]
     },
     "metadata": {
      "needs_background": "light"
     },
     "output_type": "display_data"
    }
   ],
   "source": [
    "plt.hist(df[target], log=True, bins=100)\n",
    "plt.show()"
   ]
  },
  {
   "cell_type": "code",
   "execution_count": 179,
   "metadata": {},
   "outputs": [],
   "source": [
    "X_train, X_test, y_train, y_test = train_test_split(df, df[target], test_size=0.2, random_state=123)"
   ]
  },
  {
   "cell_type": "markdown",
   "metadata": {},
   "source": [
    "# TF-IDF model"
   ]
  },
  {
   "cell_type": "code",
   "execution_count": 223,
   "metadata": {},
   "outputs": [],
   "source": [
    "vectorizer = TfidfVectorizer()\n",
    "X_train_tfidf = vectorizer.fit_transform(X_train[\"text\"])\n",
    "svd = TruncatedSVD(n_components=150, random_state=123)\n",
    "X_train_svd = svd.fit_transform(X_train_tfidf)\n",
    "\n",
    "X_test_tfidf = vectorizer.transform(X_test[\"text\"])\n",
    "X_test_svd = svd.transform(X_test_tfidf)"
   ]
  },
  {
   "cell_type": "markdown",
   "metadata": {},
   "source": [
    "# Modeling"
   ]
  },
  {
   "cell_type": "code",
   "execution_count": 224,
   "metadata": {},
   "outputs": [],
   "source": [
    "def compute_scores(model, train, test, y_train, y_test, namemodel):\n",
    "    y_pred = model.predict(train)\n",
    "    train_abs_error = mean_absolute_error(y_train, y_pred)\n",
    "    train_sqrt_error = mean_squared_error(y_train, y_pred)\n",
    "    train_r2_score = r2_score(y_train, y_pred)\n",
    "\n",
    "    y_pred = model.predict(test)\n",
    "    test_abs_error = mean_absolute_error(y_test, y_pred)\n",
    "    test_sqrt_error = mean_squared_error(y_test, y_pred)\n",
    "    test_r2_score = r2_score(y_test, y_pred)\n",
    "\n",
    "    print('Absolute error for '+namemodel+':')\n",
    "    print('- Train:', train_abs_error)\n",
    "    print('- Test:', test_abs_error)\n",
    "    print('Squared error for '+namemodel+':')\n",
    "    print('- Train:', train_sqrt_error)\n",
    "    print('- Test:', test_sqrt_error)\n",
    "    print('R2 score for '+namemodel+':')\n",
    "    print('- Train:', train_r2_score)\n",
    "    print('- Test:', test_r2_score)"
   ]
  },
  {
   "cell_type": "markdown",
   "metadata": {},
   "source": [
    "## Linear Regression"
   ]
  },
  {
   "cell_type": "code",
   "execution_count": 225,
   "metadata": {},
   "outputs": [],
   "source": [
    "lm = LinearRegression().fit(X_train_svd, y_train)"
   ]
  },
  {
   "cell_type": "code",
   "execution_count": 226,
   "metadata": {},
   "outputs": [
    {
     "name": "stdout",
     "output_type": "stream",
     "text": [
      "Absolute error for LM:\n",
      "- Train: 1539.7923394477427\n",
      "- Test: 1439.7624455827206\n",
      "Squared error for LM:\n",
      "- Train: 85684678.07892965\n",
      "- Test: 57555023.83764332\n",
      "R2 score for LM:\n",
      "- Train: 0.01520025000741032\n",
      "- Test: 0.004488365067876088\n"
     ]
    }
   ],
   "source": [
    "compute_scores(lm, X_train_svd, X_test_svd, y_train, y_test, 'LM')"
   ]
  },
  {
   "cell_type": "markdown",
   "metadata": {},
   "source": [
    "## Ridge Regression"
   ]
  },
  {
   "cell_type": "code",
   "execution_count": 227,
   "metadata": {},
   "outputs": [],
   "source": [
    "ridge = Ridge().fit(X_train_svd, y_train)"
   ]
  },
  {
   "cell_type": "code",
   "execution_count": 228,
   "metadata": {
    "scrolled": true
   },
   "outputs": [
    {
     "name": "stdout",
     "output_type": "stream",
     "text": [
      "Absolute error for RIDGE:\n",
      "- Train: 1533.7133788172334\n",
      "- Test: 1433.186173762579\n",
      "Squared error for RIDGE:\n",
      "- Train: 85684944.4959189\n",
      "- Test: 57539309.105335854\n",
      "R2 score for RIDGE:\n",
      "- Train: 0.01519718799690517\n",
      "- Test: 0.004760177983739844\n"
     ]
    }
   ],
   "source": [
    "compute_scores(ridge, X_train_svd, X_test_svd, y_train, y_test, 'RIDGE')"
   ]
  },
  {
   "cell_type": "markdown",
   "metadata": {},
   "source": [
    "## Gaussian Naive Bayes"
   ]
  },
  {
   "cell_type": "code",
   "execution_count": 229,
   "metadata": {},
   "outputs": [],
   "source": [
    "gnb = GaussianNB().fit(X_train_svd, y_train)"
   ]
  },
  {
   "cell_type": "code",
   "execution_count": 230,
   "metadata": {},
   "outputs": [],
   "source": [
    "#compute_scores(gnb, X_train_svd, X_test_svd, y_train, y_test, 'GNB')"
   ]
  },
  {
   "cell_type": "markdown",
   "metadata": {},
   "source": [
    "## Random Forest Regressor"
   ]
  },
  {
   "cell_type": "code",
   "execution_count": 231,
   "metadata": {
    "scrolled": false
   },
   "outputs": [],
   "source": [
    "rf = RandomForestRegressor(max_depth=5).fit(X_train_svd, y_train)"
   ]
  },
  {
   "cell_type": "code",
   "execution_count": 232,
   "metadata": {
    "scrolled": true
   },
   "outputs": [
    {
     "name": "stdout",
     "output_type": "stream",
     "text": [
      "Absolute error for RF:\n",
      "- Train: 1376.2119864742106\n",
      "- Test: 1328.7081553906582\n",
      "Squared error for RF:\n",
      "- Train: 69810556.3102766\n",
      "- Test: 60143188.20573067\n",
      "R2 score for RF:\n",
      "- Train: 0.1976463010355889\n",
      "- Test: -0.040278322003888034\n"
     ]
    }
   ],
   "source": [
    "compute_scores(rf, X_train_svd, X_test_svd, y_train, y_test, 'RF')"
   ]
  },
  {
   "cell_type": "markdown",
   "metadata": {},
   "source": [
    "## Multi-layer Perceptron Regressor (NN)"
   ]
  },
  {
   "cell_type": "code",
   "execution_count": 233,
   "metadata": {},
   "outputs": [
    {
     "name": "stderr",
     "output_type": "stream",
     "text": [
      "/Library/Frameworks/Python.framework/Versions/3.9/lib/python3.9/site-packages/sklearn/neural_network/_multilayer_perceptron.py:614: ConvergenceWarning: Stochastic Optimizer: Maximum iterations (800) reached and the optimization hasn't converged yet.\n",
      "  warnings.warn(\n"
     ]
    }
   ],
   "source": [
    "mlp = MLPRegressor(random_state=1, max_iter=800, hidden_layer_sizes=(5,5,5)).fit(X_train_svd, y_train)"
   ]
  },
  {
   "cell_type": "code",
   "execution_count": 234,
   "metadata": {
    "scrolled": true
   },
   "outputs": [
    {
     "name": "stdout",
     "output_type": "stream",
     "text": [
      "Absolute error for MLP:\n",
      "- Train: 1297.0390037593627\n",
      "- Test: 1346.4375076592626\n",
      "Squared error for MLP:\n",
      "- Train: 59494648.58792081\n",
      "- Test: 69014180.24704014\n",
      "R2 score for MLP:\n",
      "- Train: 0.31621012800783244\n",
      "- Test: -0.19371715673403567\n"
     ]
    }
   ],
   "source": [
    "compute_scores(mlp, X_train_svd, X_test_svd, y_train, y_test, 'MLP')"
   ]
  },
  {
   "cell_type": "code",
   "execution_count": 235,
   "metadata": {},
   "outputs": [
    {
     "name": "stdout",
     "output_type": "stream",
     "text": [
      "[     0     64 675989]\n"
     ]
    }
   ],
   "source": [
    "nclass = 2\n",
    "\n",
    "sorted_vals = df[target].sort_values(ignore_index=True).values\n",
    "nvals = len(sorted_vals)\n",
    "inter_limits = [sorted_vals[int((i+1)/nclass*nvals)] for i in range(nclass-1)]\n",
    "limits = np.array([df[target].min(), *inter_limits, df[target].max()])\n",
    "\n",
    "def get_target(x, limits):\n",
    "    return np.where(x >= limits)[0][-1]\n",
    "\n",
    "print(limits)"
   ]
  },
  {
   "cell_type": "code",
   "execution_count": 242,
   "metadata": {},
   "outputs": [],
   "source": [
    "# models: lm, ridge, gnb, rf, mlp\n",
    "y_pred = gnb.predict(X_test_svd)\n",
    "\n",
    "y_test_class = y_test.apply(get_target, args=(limits,))\n",
    "y_pred_class = [get_target(y,limits) for y in y_pred]"
   ]
  },
  {
   "cell_type": "code",
   "execution_count": 243,
   "metadata": {},
   "outputs": [
    {
     "data": {
      "text/plain": [
       "0.5052746148693905"
      ]
     },
     "execution_count": 243,
     "metadata": {},
     "output_type": "execute_result"
    }
   ],
   "source": [
    "accuracy_score(y_test_class, y_pred_class)"
   ]
  },
  {
   "cell_type": "code",
   "execution_count": null,
   "metadata": {},
   "outputs": [],
   "source": []
  }
 ],
 "metadata": {
  "kernelspec": {
   "display_name": "Python 3 (ipykernel)",
   "language": "python",
   "name": "python3"
  },
  "language_info": {
   "codemirror_mode": {
    "name": "ipython",
    "version": 3
   },
   "file_extension": ".py",
   "mimetype": "text/x-python",
   "name": "python",
   "nbconvert_exporter": "python",
   "pygments_lexer": "ipython3",
   "version": "3.9.0"
  }
 },
 "nbformat": 4,
 "nbformat_minor": 4
}
