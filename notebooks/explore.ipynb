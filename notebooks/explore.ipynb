{
 "cells": [
  {
   "cell_type": "code",
   "execution_count": 2,
   "metadata": {},
   "outputs": [],
   "source": [
    "import pandas as pd\n",
    "import sqlite3\n",
    "import matplotlib.pyplot as plt"
   ]
  },
  {
   "cell_type": "code",
   "execution_count": 3,
   "metadata": {},
   "outputs": [],
   "source": [
    "version1_path = \"../data/raw/td_V1.db\"\n",
    "version2_path = \"../data/raw/td_V2.db\"\n",
    "con1 = sqlite3.connect(version1_path)\n",
    "con2 = sqlite3.connect(version2_path)"
   ]
  },
  {
   "cell_type": "code",
   "execution_count": 4,
   "metadata": {},
   "outputs": [],
   "source": [
    "light_q = \"\"\"SELECT key\n",
    "     FROM jira_issues\"\"\"\n",
    "\n",
    "heavy_q = \"\"\"SELECT *\n",
    "     FROM jira_issues\"\"\"\n",
    "\n",
    "commits_q = \"\"\"SELECT *\n",
    "    FROM git_commits\"\"\""
   ]
  },
  {
   "cell_type": "code",
   "execution_count": 5,
   "metadata": {},
   "outputs": [],
   "source": [
    "light1 = pd.read_sql(light_q, con1)\n",
    "light2 = pd.read_sql(light_q, con2)"
   ]
  },
  {
   "cell_type": "code",
   "execution_count": 6,
   "metadata": {},
   "outputs": [],
   "source": [
    "heavy1 = pd.read_sql(heavy_q, con1)\n",
    "heavy2 = pd.read_sql(heavy_q, con2)"
   ]
  },
  {
   "cell_type": "code",
   "execution_count": 37,
   "metadata": {},
   "outputs": [
    {
     "data": {
      "text/plain": [
       "Index(['projectID', 'key', 'creationDate', 'resolutionDate', 'updateDate',\n",
       "       'dueDate', 'resolution', 'type', 'priority', 'fixVersions', 'versions',\n",
       "       'timeSpent', 'aggregatedTimeSpent', 'timeEstimate',\n",
       "       'timeOriginalEstimate', 'aggregateTimeEstimate', 'progressPercent',\n",
       "       'componentName', 'componentDescription', 'description', 'summary',\n",
       "       'watchCount', 'votes', 'labels', 'creatorName', 'creatorActive',\n",
       "       'assignee', 'reporter'],\n",
       "      dtype='object')"
      ]
     },
     "execution_count": 37,
     "metadata": {},
     "output_type": "execute_result"
    }
   ],
   "source": [
    "heavy1.columns"
   ]
  },
  {
   "cell_type": "code",
   "execution_count": 33,
   "metadata": {},
   "outputs": [
    {
     "data": {
      "text/plain": [
       "Index(['PROJECT_ID', 'KEY', 'CREATION_DATE', 'RESOLUTION_DATE', 'HASH',\n",
       "       'COMMIT_DATE'],\n",
       "      dtype='object')"
      ]
     },
     "execution_count": 33,
     "metadata": {},
     "output_type": "execute_result"
    }
   ],
   "source": [
    "heavy2.columns"
   ]
  },
  {
   "cell_type": "code",
   "execution_count": 7,
   "metadata": {},
   "outputs": [
    {
     "data": {
      "text/plain": [
       "((67427, 1), (22007, 1))"
      ]
     },
     "execution_count": 7,
     "metadata": {},
     "output_type": "execute_result"
    }
   ],
   "source": [
    "light1.shape, light2.shape"
   ]
  },
  {
   "cell_type": "code",
   "execution_count": 8,
   "metadata": {},
   "outputs": [
    {
     "data": {
      "text/plain": [
       "((67427, 28), (22007, 6))"
      ]
     },
     "execution_count": 8,
     "metadata": {},
     "output_type": "execute_result"
    }
   ],
   "source": [
    "heavy1.shape, heavy2.shape"
   ]
  },
  {
   "cell_type": "code",
   "execution_count": 17,
   "metadata": {},
   "outputs": [
    {
     "data": {
      "text/plain": [
       "9300"
      ]
     },
     "execution_count": 17,
     "metadata": {},
     "output_type": "execute_result"
    }
   ],
   "source": [
    "len(set(light1[\"key\"]).intersection(set(light2[\"KEY\"])))"
   ]
  },
  {
   "cell_type": "code",
   "execution_count": 25,
   "metadata": {},
   "outputs": [],
   "source": [
    "commits1 = pd.read_sql(commits_q, con1)\n",
    "commits2 = pd.read_sql(commits_q, con2)"
   ]
  },
  {
   "cell_type": "code",
   "execution_count": 28,
   "metadata": {},
   "outputs": [
    {
     "data": {
      "text/plain": [
       "((140687, 13), (81072, 13))"
      ]
     },
     "execution_count": 28,
     "metadata": {},
     "output_type": "execute_result"
    }
   ],
   "source": [
    "commits1.shape, commits2.shape"
   ]
  },
  {
   "cell_type": "code",
   "execution_count": 29,
   "metadata": {},
   "outputs": [
    {
     "data": {
      "text/plain": [
       "75009"
      ]
     },
     "execution_count": 29,
     "metadata": {},
     "output_type": "execute_result"
    }
   ],
   "source": [
    "len(set(commits1[\"commitHash\"]).intersection(set(commits2[\"COMMIT_HASH\"])))"
   ]
  },
  {
   "cell_type": "code",
   "execution_count": 30,
   "metadata": {},
   "outputs": [
    {
     "data": {
      "text/plain": [
       "Index(['projectID', 'commitHash', 'commitMessage', 'author', 'authorDate',\n",
       "       'authorTimezone', 'committer', 'committerDate', 'committerTimezone',\n",
       "       'branches', 'inMainBranch', 'merge', 'parents'],\n",
       "      dtype='object')"
      ]
     },
     "execution_count": 30,
     "metadata": {},
     "output_type": "execute_result"
    }
   ],
   "source": [
    "commits1.columns"
   ]
  },
  {
   "cell_type": "code",
   "execution_count": null,
   "metadata": {},
   "outputs": [],
   "source": []
  }
 ],
 "metadata": {
  "kernelspec": {
   "display_name": "Python 3",
   "language": "python",
   "name": "python3"
  },
  "language_info": {
   "codemirror_mode": {
    "name": "ipython",
    "version": 3
   },
   "file_extension": ".py",
   "mimetype": "text/x-python",
   "name": "python",
   "nbconvert_exporter": "python",
   "pygments_lexer": "ipython3",
   "version": "3.7.3"
  }
 },
 "nbformat": 4,
 "nbformat_minor": 4
}
